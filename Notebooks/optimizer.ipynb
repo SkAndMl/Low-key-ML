{
 "cells": [
  {
   "cell_type": "code",
   "execution_count": 1,
   "id": "3aa924e6",
   "metadata": {},
   "outputs": [],
   "source": [
    "import os\n",
    "import sys\n",
    "\n",
    "sys.path.append(os.path.abspath(os.path.join(os.getcwd(), \"..\")))"
   ]
  },
  {
   "cell_type": "code",
   "execution_count": 2,
   "id": "a7dd9f90",
   "metadata": {},
   "outputs": [],
   "source": [
    "from optimizer import SGD\n",
    "from torch.nn import Parameter\n",
    "\n",
    "import torch"
   ]
  },
  {
   "cell_type": "code",
   "execution_count": 3,
   "id": "a05cb581",
   "metadata": {},
   "outputs": [],
   "source": [
    "def loss_fn(x: torch.Tensor) -> torch.Tensor:\n",
    "    return (x-3) ** 2"
   ]
  },
  {
   "cell_type": "code",
   "execution_count": 4,
   "id": "5e7d52ed",
   "metadata": {},
   "outputs": [
    {
     "name": "stdout",
     "output_type": "stream",
     "text": [
      "Step: 1, x: 0.6000000238418579, loss: 9.0000\n",
      "Step: 2, x: 1.0800000429153442, loss: 5.7600\n",
      "Step: 3, x: 1.4639999866485596, loss: 3.6864\n",
      "Step: 4, x: 1.7711999416351318, loss: 2.3593\n",
      "Step: 5, x: 2.0169599056243896, loss: 1.5099\n",
      "Step: 6, x: 2.2135679721832275, loss: 0.9664\n",
      "Step: 7, x: 2.370854377746582, loss: 0.6185\n",
      "Step: 8, x: 2.4966835975646973, loss: 0.3958\n",
      "Step: 9, x: 2.597346782684326, loss: 0.2533\n",
      "Step: 10, x: 2.677877426147461, loss: 0.1621\n",
      "Step: 11, x: 2.7423019409179688, loss: 0.1038\n",
      "Step: 12, x: 2.793841600418091, loss: 0.0664\n",
      "Step: 13, x: 2.835073232650757, loss: 0.0425\n",
      "Step: 14, x: 2.868058681488037, loss: 0.0272\n",
      "Step: 15, x: 2.894446849822998, loss: 0.0174\n",
      "Step: 16, x: 2.915557384490967, loss: 0.0111\n",
      "Step: 17, x: 2.932446002960205, loss: 0.0071\n",
      "Step: 18, x: 2.9459567070007324, loss: 0.0046\n",
      "Step: 19, x: 2.9567654132843018, loss: 0.0029\n",
      "Step: 20, x: 2.9654123783111572, loss: 0.0019\n",
      "Step: 21, x: 2.97232985496521, loss: 0.0012\n",
      "difference in loss is less than the threshold; stopping\n"
     ]
    }
   ],
   "source": [
    "x = Parameter(data=torch.tensor([0.0]), requires_grad=True)\n",
    "optimizer = SGD(lr=0.1, params=[x], momentum=None)\n",
    "\n",
    "loss_threshold = 1e-3\n",
    "prev_loss = 0\n",
    "\n",
    "for step in range(50):\n",
    "    loss = loss_fn(x)\n",
    "    \n",
    "    optimizer.zero_grad()\n",
    "    loss.backward()\n",
    "    optimizer.step()\n",
    "\n",
    "    print(f\"Step: {step+1}, x: {x.item()}, loss: {loss.item():.4f}\")\n",
    "\n",
    "    if abs(prev_loss - loss.item()) < loss_threshold:\n",
    "        print(f\"difference in loss is less than the threshold; stopping\")\n",
    "        break\n",
    "    prev_loss = loss.item()"
   ]
  },
  {
   "cell_type": "code",
   "execution_count": 5,
   "id": "e2fd512b",
   "metadata": {},
   "outputs": [
    {
     "name": "stdout",
     "output_type": "stream",
     "text": [
      "Step: 1, x: 1.100000023841858, loss: 9.0000\n",
      "Step: 2, x: 2.0299999713897705, loss: 3.6100\n",
      "Step: 3, x: 2.689000129699707, loss: 0.9409\n",
      "Step: 4, x: 3.080700159072876, loss: 0.0967\n",
      "Step: 5, x: 3.2604100704193115, loss: 0.0065\n",
      "Step: 6, x: 3.298182964324951, loss: 0.0678\n",
      "Step: 7, x: 3.2574329376220703, loss: 0.0889\n",
      "Step: 8, x: 3.1855711936950684, loss: 0.0663\n",
      "Step: 9, x: 3.1125261783599854, loss: 0.0344\n",
      "Step: 10, x: 3.0534985065460205, loss: 0.0127\n",
      "Step: 11, x: 3.013284921646118, loss: 0.0029\n",
      "Step: 12, x: 2.990521192550659, loss: 0.0002\n",
      "Step: 13, x: 2.981034994125366, loss: 0.0001\n",
      "difference in loss is less than the threshold; stopping\n"
     ]
    }
   ],
   "source": [
    "x = Parameter(data=torch.tensor([0.0]), requires_grad=True)\n",
    "optimizer = SGD(lr=0.1, params=[x], momentum=0.5)\n",
    "\n",
    "loss_threshold = 1e-3\n",
    "prev_loss = 0\n",
    "\n",
    "for step in range(50):\n",
    "    loss = loss_fn(x)\n",
    "    \n",
    "    optimizer.zero_grad()\n",
    "    loss.backward()\n",
    "    optimizer.step()\n",
    "\n",
    "    print(f\"Step: {step+1}, x: {x.item()}, loss: {loss.item():.4f}\")\n",
    "\n",
    "    if abs(prev_loss - loss.item()) < loss_threshold:\n",
    "        print(f\"difference in loss is less than the threshold; stopping\")\n",
    "        break\n",
    "    prev_loss = loss.item()"
   ]
  }
 ],
 "metadata": {
  "kernelspec": {
   "display_name": "venv",
   "language": "python",
   "name": "python3"
  },
  "language_info": {
   "codemirror_mode": {
    "name": "ipython",
    "version": 3
   },
   "file_extension": ".py",
   "mimetype": "text/x-python",
   "name": "python",
   "nbconvert_exporter": "python",
   "pygments_lexer": "ipython3",
   "version": "3.11.10"
  }
 },
 "nbformat": 4,
 "nbformat_minor": 5
}
